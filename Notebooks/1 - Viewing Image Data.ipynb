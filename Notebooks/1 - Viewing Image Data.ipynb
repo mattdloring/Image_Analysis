{
 "cells": [
  {
   "cell_type": "markdown",
   "metadata": {},
   "source": [
    "# View Some Imaging Data"
   ]
  },
  {
   "cell_type": "markdown",
   "metadata": {},
   "source": [
    "### First we import some packages"
   ]
  },
  {
   "cell_type": "code",
   "execution_count": 5,
   "metadata": {},
   "outputs": [],
   "source": [
    "import caiman as cm\n",
    "import matplotlib.pyplot as plt\n",
    "import numpy as np\n",
    "\n",
    "import os\n",
    "\n",
    "\n",
    "# here instead of taking the whole package we only need part of it \n",
    "\n",
    "from pathlib import Path"
   ]
  },
  {
   "cell_type": "markdown",
   "metadata": {},
   "source": [
    "### Define the path to the data and find the image file in the folder"
   ]
  },
  {
   "cell_type": "code",
   "execution_count": 8,
   "metadata": {},
   "outputs": [],
   "source": [
    "# load the data path - \n",
    "\n",
    "dataPath = Path(r'C:\\Users\\matt_analysis\\Box\\DUNE\\Data')"
   ]
  },
  {
   "cell_type": "code",
   "execution_count": 9,
   "metadata": {},
   "outputs": [
    {
     "data": {
      "text/plain": [
       "WindowsPath('C:/Users/matt_analysis/Box/DUNE/Data')"
      ]
     },
     "execution_count": 9,
     "metadata": {},
     "output_type": "execute_result"
    }
   ],
   "source": [
    "# jupyter notebooks let us see any variable easily -- this path function flipped all our slashes\n",
    "\n",
    "dataPath"
   ]
  },
  {
   "cell_type": "code",
   "execution_count": 11,
   "metadata": {},
   "outputs": [
    {
     "name": "stdout",
     "output_type": "stream",
     "text": [
      ".ipynb_checkpoints\n",
      "0.1.1.4392.440.2.50.3.00.55.0.tif\n",
      "1 - Viewing Image Data.ipynb\n",
      "stims.txt\n",
      "Timestamps.tdms\n",
      "Timestamps.tdms_index\n"
     ]
    }
   ],
   "source": [
    "# what files are present in our data folder?\n",
    "\n",
    "with os.scandir(dataPath) as entries:\n",
    "    for entry in entries:\n",
    "        print(entry.name)"
   ]
  },
  {
   "cell_type": "code",
   "execution_count": null,
   "metadata": {},
   "outputs": [],
   "source": [
    "## find the image programmatically, whats unique about its path?\n",
    "\n",
    "\n",
    "_image_path = ???"
   ]
  },
  {
   "cell_type": "code",
   "execution_count": null,
   "metadata": {},
   "outputs": [],
   "source": [
    "# the entry name is not the full path! lets finish our entry path to be complete\n",
    "\n",
    "imagePath = dataPath.joinpath(_new_path)"
   ]
  },
  {
   "cell_type": "code",
   "execution_count": null,
   "metadata": {},
   "outputs": [],
   "source": [
    "# open the image \n",
    "\n",
    "image = cm.load(imagePath)"
   ]
  },
  {
   "cell_type": "code",
   "execution_count": null,
   "metadata": {},
   "outputs": [],
   "source": [
    "# what are the image dimensions? and what do they mean?\n",
    "\n",
    "image.shape"
   ]
  },
  {
   "cell_type": "code",
   "execution_count": null,
   "metadata": {},
   "outputs": [],
   "source": [
    "# show one image\n",
    "\n"
   ]
  },
  {
   "cell_type": "code",
   "execution_count": null,
   "metadata": {},
   "outputs": [],
   "source": [
    "# Create and view a mean image and a standard deviation image\n",
    "\n",
    "meanImage = np.mean(image, axis=0)"
   ]
  },
  {
   "cell_type": "code",
   "execution_count": null,
   "metadata": {},
   "outputs": [],
   "source": [
    "# how do we look at average image values?\n",
    "\n",
    "frame_number = 0\n",
    "oneFrame = np.mean(image[frame_number])\n",
    "print(oneFrame)"
   ]
  },
  {
   "cell_type": "code",
   "execution_count": null,
   "metadata": {},
   "outputs": [],
   "source": [
    "# plot the average value of the image across all frames\n",
    "\n",
    "image_values = []\n",
    "\n",
    "for frame_number in image.shape[0]:\n",
    "    image_values.append(np.mean(image[frame_number]))\n",
    "    "
   ]
  },
  {
   "cell_type": "code",
   "execution_count": null,
   "metadata": {},
   "outputs": [],
   "source": [
    "# lets investigate that random high point\n",
    "\n",
    "# find the max val and where it is in the array\n",
    "max_val = np.max(image_values)\n",
    "\n",
    "# find where this val is in the array\n",
    "np.where(iamge_values==max_val)"
   ]
  },
  {
   "cell_type": "code",
   "execution_count": null,
   "metadata": {},
   "outputs": [],
   "source": [
    "# this is a list of arrays and we just want one val, so we take 0th index twice\n",
    "max_ind = np.where(iamge_values==max_val)[0][0]\n",
    "\n",
    "plt.imshow(image[max_ind], cmap='gray', vmin=0, vmax=512)"
   ]
  }
 ],
 "metadata": {
  "kernelspec": {
   "display_name": "Python 3",
   "language": "python",
   "name": "python3"
  },
  "language_info": {
   "codemirror_mode": {
    "name": "ipython",
    "version": 3
   },
   "file_extension": ".py",
   "mimetype": "text/x-python",
   "name": "python",
   "nbconvert_exporter": "python",
   "pygments_lexer": "ipython3",
   "version": "3.7.3"
  }
 },
 "nbformat": 4,
 "nbformat_minor": 2
}
